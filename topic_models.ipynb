{
 "cells": [
  {
   "cell_type": "markdown",
   "metadata": {},
   "source": [
    "# Topic Model Exploration"
   ]
  },
  {
   "cell_type": "markdown",
   "metadata": {},
   "source": [
    "BOW, Document-term matrix, TF-IDF. Based on tutorials: https://radimrehurek.com/gensim/tut1.html"
   ]
  },
  {
   "cell_type": "code",
   "execution_count": null,
   "metadata": {
    "collapsed": true
   },
   "outputs": [],
   "source": [
    "import logging\n",
    "logging.basicConfig(format='%(asctime)s : %(levelname)s : %(message)s', level=logging.INFO)"
   ]
  },
  {
   "cell_type": "code",
   "execution_count": 1,
   "metadata": {},
   "outputs": [
    {
     "data": {
      "text/plain": [
       "4"
      ]
     },
     "execution_count": 1,
     "metadata": {},
     "output_type": "execute_result"
    }
   ],
   "source": [
    "# test corpora based on: http://topicmodels.west.uni-koblenz.de/ckling/tmt/part1.pdf\n",
    "'''documents = [\"probabilistic topic model\",\n",
    "    \"probabilistic topic model\",\n",
    "    \"probabilistic topic model\",\n",
    "    \"famous fashion model\",\n",
    "    \"famous fashion model\",\n",
    "    \"famous fashion model\",\n",
    "    \"famous fashion model\",\n",
    "    \"famous fashion model\",\n",
    "    \"famous fashion model\",\n",
    "    \"famous fashion model\"\n",
    "]'''\n",
    "documents = [\"modem the steering linux. modem, linux the modem. steering the modem. linux!\",\n",
    "    \"linux; the linux. the linux modem linux. the modem, clutch the modem. gear.\",\n",
    "    \"gear! clutch the steering, steering, linux. the steering clutch gear. clutch the gear; the clutch.\",\n",
    "    \"the the the. clutch clutch clutch! steering gear; steering gear gear; steering gear!!!!\"]\n",
    "len(documents)"
   ]
  },
  {
   "cell_type": "code",
   "execution_count": 2,
   "metadata": {},
   "outputs": [
    {
     "name": "stdout",
     "output_type": "stream",
     "text": [
      "[['modem', 'the', 'steering', 'linux', 'modem', 'linux', 'the', 'modem', 'steering', 'the', 'modem', 'linux'], ['linux', 'the', 'linux', 'the', 'linux', 'modem', 'linux', 'the', 'modem', 'clutch', 'the', 'modem', 'gear'], ['gear', 'clutch', 'the', 'steering', 'steering', 'linux', 'the', 'steering', 'clutch', 'gear', 'clutch', 'the', 'gear', 'the', 'clutch'], ['the', 'the', 'the', 'clutch', 'clutch', 'clutch', 'steering', 'gear', 'steering', 'gear', 'gear', 'steering', 'gear']]\n"
     ]
    }
   ],
   "source": [
    "from nltk.tokenize import word_tokenize\n",
    "import string\n",
    "\n",
    "texts = [[word for word in word_tokenize(document) if word not in string.punctuation] for document in documents]\n",
    "print(texts)"
   ]
  },
  {
   "cell_type": "code",
   "execution_count": 3,
   "metadata": {},
   "outputs": [
    {
     "name": "stdout",
     "output_type": "stream",
     "text": [
      "{'modem': 0, 'the': 1, 'steering': 2, 'linux': 3, 'clutch': 4, 'gear': 5}\n"
     ]
    },
    {
     "name": "stderr",
     "output_type": "stream",
     "text": [
      "C:\\Users\\narho_000\\Anaconda3\\lib\\site-packages\\gensim\\utils.py:860: UserWarning: detected Windows; aliasing chunkize to chunkize_serial\n",
      "  warnings.warn(\"detected Windows; aliasing chunkize to chunkize_serial\")\n"
     ]
    }
   ],
   "source": [
    "from gensim import corpora\n",
    "\n",
    "dictionary = corpora.Dictionary(texts)\n",
    "print(dictionary.token2id)"
   ]
  },
  {
   "cell_type": "code",
   "execution_count": 4,
   "metadata": {},
   "outputs": [
    {
     "data": {
      "text/plain": [
       "[[(0, 4), (1, 3), (2, 2), (3, 3)],\n",
       " [(0, 3), (1, 4), (3, 4), (4, 1), (5, 1)],\n",
       " [(1, 4), (2, 3), (3, 1), (4, 4), (5, 3)],\n",
       " [(1, 3), (2, 3), (4, 3), (5, 4)]]"
      ]
     },
     "execution_count": 4,
     "metadata": {},
     "output_type": "execute_result"
    }
   ],
   "source": [
    "bow = [dictionary.doc2bow(text) for text in texts]\n",
    "bow"
   ]
  },
  {
   "cell_type": "code",
   "execution_count": 5,
   "metadata": {},
   "outputs": [],
   "source": [
    "import pandas as pd\n",
    "import numpy as np\n",
    "\n",
    "#columns = ['D1', 'D2', 'D3', 'D4', 'D5', 'D6', 'D7', 'D8', 'D9', 'D10']\n",
    "columns = ['D1', 'D2', 'D3', 'D4']\n",
    "doc_term = pd.DataFrame(np.zeros((len(dictionary.token2id), len(bow))), columns = columns, index = dictionary.token2id)"
   ]
  },
  {
   "cell_type": "code",
   "execution_count": 6,
   "metadata": {},
   "outputs": [
    {
     "name": "stdout",
     "output_type": "stream",
     "text": [
      "           D1   D2   D3   D4\n",
      "modem     4.0  3.0  0.0  0.0\n",
      "the       3.0  4.0  4.0  3.0\n",
      "steering  2.0  0.0  3.0  3.0\n",
      "linux     3.0  4.0  1.0  0.0\n",
      "clutch    0.0  1.0  4.0  3.0\n",
      "gear      0.0  1.0  3.0  4.0\n"
     ]
    }
   ],
   "source": [
    "for i, doc in enumerate(bow):\n",
    "    for tp in doc:\n",
    "        doc_term.iat[tp[0], i] = tp[1]\n",
    "print(doc_term)"
   ]
  },
  {
   "cell_type": "code",
   "execution_count": 7,
   "metadata": {},
   "outputs": [
    {
     "data": {
      "text/plain": [
       "[[(0, 0.936603022962913), (2, 0.19436268823376643), (3, 0.29154403235064963)],\n",
       " [(0, 0.8624176140851579),\n",
       "  (3, 0.47724753317857443),\n",
       "  (4, 0.11931188329464361),\n",
       "  (5, 0.11931188329464361)],\n",
       " [(2, 0.50709255283711),\n",
       "  (3, 0.1690308509457033),\n",
       "  (4, 0.6761234037828132),\n",
       "  (5, 0.50709255283711)],\n",
       " [(2, 0.5144957554275266), (4, 0.5144957554275266), (5, 0.6859943405700354)]]"
      ]
     },
     "execution_count": 7,
     "metadata": {},
     "output_type": "execute_result"
    }
   ],
   "source": [
    "from gensim import models\n",
    "\n",
    "model = models.TfidfModel(bow)\n",
    "tfidf_model = [model[doc] for doc in bow]\n",
    "tfidf_model"
   ]
  },
  {
   "cell_type": "code",
   "execution_count": 8,
   "metadata": {
    "collapsed": true
   },
   "outputs": [],
   "source": [
    "tfidf = pd.DataFrame(np.zeros((len(dictionary.token2id), len(bow))), columns = columns, index = dictionary.token2id)"
   ]
  },
  {
   "cell_type": "code",
   "execution_count": 9,
   "metadata": {},
   "outputs": [
    {
     "name": "stdout",
     "output_type": "stream",
     "text": [
      "                D1        D2        D3        D4\n",
      "modem     0.936603  0.862418  0.000000  0.000000\n",
      "the       0.000000  0.000000  0.000000  0.000000\n",
      "steering  0.194363  0.000000  0.507093  0.514496\n",
      "linux     0.291544  0.477248  0.169031  0.000000\n",
      "clutch    0.000000  0.119312  0.676123  0.514496\n",
      "gear      0.000000  0.119312  0.507093  0.685994\n"
     ]
    }
   ],
   "source": [
    "for i, doc in enumerate(tfidf_model):\n",
    "    for tp in doc:\n",
    "        tfidf.iat[tp[0], i] = tp[1]\n",
    "print(tfidf)"
   ]
  },
  {
   "cell_type": "markdown",
   "metadata": {},
   "source": [
    "# SVD, LSA (LSI)"
   ]
  },
  {
   "cell_type": "markdown",
   "metadata": {},
   "source": [
    "## With gensim"
   ]
  },
  {
   "cell_type": "code",
   "execution_count": 10,
   "metadata": {},
   "outputs": [
    {
     "data": {
      "text/plain": [
       "[(0,\n",
       "  '0.624*\"the\" + 0.384*\"clutch\" + 0.376*\"gear\" + 0.364*\"steering\" + 0.335*\"linux\" + 0.277*\"modem\"'),\n",
       " (1,\n",
       "  '0.583*\"modem\" + 0.514*\"linux\" + -0.412*\"gear\" + -0.397*\"clutch\" + -0.242*\"steering\" + 0.099*\"the\"')]"
      ]
     },
     "execution_count": 10,
     "metadata": {},
     "output_type": "execute_result"
    }
   ],
   "source": [
    "lsi = models.LsiModel(bow, id2word=dictionary, num_topics=2) # initialize an LSI transformation\n",
    "corpus_lsi = lsi[bow] # create a double wrapper over the original corpus: bow->tfidf->fold-in-lsi\n",
    "\n",
    "lsi.print_topics(-1)"
   ]
  },
  {
   "cell_type": "code",
   "execution_count": 11,
   "metadata": {},
   "outputs": [
    {
     "data": {
      "text/plain": [
       "array([[ 0.27744519,  0.5826725 ],\n",
       "       [ 0.62416737,  0.09912868],\n",
       "       [ 0.36351351, -0.24249522],\n",
       "       [ 0.33508594,  0.51399463],\n",
       "       [ 0.38393822, -0.39735845],\n",
       "       [ 0.37630578, -0.4120414 ]])"
      ]
     },
     "execution_count": 11,
     "metadata": {},
     "output_type": "execute_result"
    }
   ],
   "source": [
    "lsi.projection.u # left singular vectors (U)"
   ]
  },
  {
   "cell_type": "code",
   "execution_count": 12,
   "metadata": {},
   "outputs": [
    {
     "data": {
      "text/plain": [
       "array([ 11.25526786,   6.53892079])"
      ]
     },
     "execution_count": 12,
     "metadata": {},
     "output_type": "execute_result"
    }
   ],
   "source": [
    "lsi.projection.s # singular values (Ʃ)"
   ]
  },
  {
   "cell_type": "code",
   "execution_count": 13,
   "metadata": {},
   "outputs": [
    {
     "data": {
      "text/plain": [
       "array([[ 0.41887654,  0.48240457,  0.58523405,  0.4993289 ],\n",
       "       [ 0.56355929,  0.51860406, -0.40412391, -0.50013462]])"
      ]
     },
     "execution_count": 13,
     "metadata": {},
     "output_type": "execute_result"
    }
   ],
   "source": [
    "from gensim import matutils\n",
    "\n",
    "# https://github.com/RaRe-Technologies/gensim/wiki/Recipes-&-FAQ#q3-how-do-you-calculate-the-matrix-v-in-lsi-space\n",
    "(matutils.corpus2dense(corpus_lsi, len(lsi.projection.s)).T / lsi.projection.s).T # right singular vectors (V^T)"
   ]
  },
  {
   "cell_type": "code",
   "execution_count": 14,
   "metadata": {},
   "outputs": [
    {
     "name": "stdout",
     "output_type": "stream",
     "text": [
      "[(0, 4.7145677241169297), (1, 3.6850694969601743)]\n",
      "[(0, 5.4295928192507432), (1, 3.3911108898747315)]\n",
      "[(0, 6.5869661866505886), (1, -2.6425342939042058)]\n",
      "[(0, 5.6200804337666819), (1, -3.2703405625661435)]\n"
     ]
    }
   ],
   "source": [
    "# dimensionality reduction\n",
    "for doc in corpus_lsi: # both bow->tfidf and tfidf->lsi transformations are actually executed here, on the fly\n",
    "     print(doc)"
   ]
  },
  {
   "cell_type": "markdown",
   "metadata": {},
   "source": [
    "## With scikit-learn"
   ]
  },
  {
   "cell_type": "code",
   "execution_count": 15,
   "metadata": {},
   "outputs": [],
   "source": [
    "from sklearn.utils.extmath import randomized_svd\n",
    "\n",
    "U, Sigma, VT = randomized_svd(doc_term.values.T, n_components=2)"
   ]
  },
  {
   "cell_type": "code",
   "execution_count": 16,
   "metadata": {},
   "outputs": [
    {
     "name": "stdout",
     "output_type": "stream",
     "text": [
      "[[ 0.41887655  0.56355928]\n",
      " [ 0.48240458  0.51860406]\n",
      " [ 0.58523407 -0.40412392]\n",
      " [ 0.49932889 -0.5001346 ]]\n"
     ]
    }
   ],
   "source": [
    "print(U)"
   ]
  },
  {
   "cell_type": "code",
   "execution_count": 17,
   "metadata": {},
   "outputs": [
    {
     "name": "stdout",
     "output_type": "stream",
     "text": [
      "[ 11.25526786   6.53892079]\n"
     ]
    }
   ],
   "source": [
    "print(Sigma)"
   ]
  },
  {
   "cell_type": "code",
   "execution_count": 18,
   "metadata": {},
   "outputs": [
    {
     "name": "stdout",
     "output_type": "stream",
     "text": [
      "[[ 0.27744519  0.62416737  0.36351351  0.33508594  0.38393822  0.37630578]\n",
      " [ 0.5826725   0.09912868 -0.24249522  0.51399463 -0.39735845 -0.4120414 ]]\n"
     ]
    }
   ],
   "source": [
    "print(VT)"
   ]
  },
  {
   "cell_type": "markdown",
   "metadata": {},
   "source": [
    "Using [TruncatedSVD](http://scikit-learn.org/stable/modules/generated/sklearn.decomposition.TruncatedSVD.html) below to 1) perform dimensionality reduction on the doc-term matrix, 2) get extra characteristics like explained variance"
   ]
  },
  {
   "cell_type": "code",
   "execution_count": 19,
   "metadata": {},
   "outputs": [
    {
     "name": "stdout",
     "output_type": "stream",
     "text": [
      "[[ 4.71456772  3.6850695 ]\n",
      " [ 5.42959282  3.39111089]\n",
      " [ 6.58696619 -2.64253429]\n",
      " [ 5.62008043 -3.27034056]]\n"
     ]
    }
   ],
   "source": [
    "from sklearn.decomposition import TruncatedSVD\n",
    "\n",
    "svd = TruncatedSVD(n_components=2, n_iter=1)\n",
    "svd.fit(doc_term.values.T)\n",
    "print(svd.transform(doc_term.values.T))"
   ]
  },
  {
   "cell_type": "code",
   "execution_count": 20,
   "metadata": {},
   "outputs": [
    {
     "name": "stdout",
     "output_type": "stream",
     "text": [
      "[[ 0.27744519  0.62416737  0.36351351  0.33508594  0.38393822  0.37630578]\n",
      " [ 0.5826725   0.09912868 -0.24249522  0.51399463 -0.39735845 -0.4120414 ]]\n"
     ]
    }
   ],
   "source": [
    "'''SVD suffers from a problem called \"sign indeterminancy\", which means the\n",
    "sign of the ``components_`` and the output from transform depend on the\n",
    "algorithm and random state. To work around this, fit instances of this\n",
    "class to data once, then keep the instance around to do transformations.'''\n",
    "print(svd.components_) # V^T"
   ]
  },
  {
   "cell_type": "code",
   "execution_count": 21,
   "metadata": {
    "scrolled": true
   },
   "outputs": [
    {
     "name": "stdout",
     "output_type": "stream",
     "text": [
      "[  0.4467348  10.6047913]\n"
     ]
    }
   ],
   "source": [
    "print(svd.explained_variance_)"
   ]
  },
  {
   "cell_type": "code",
   "execution_count": 22,
   "metadata": {
    "scrolled": true
   },
   "outputs": [
    {
     "name": "stdout",
     "output_type": "stream",
     "text": [
      "[ 0.03591838  0.85264654]\n"
     ]
    }
   ],
   "source": [
    "print(svd.explained_variance_ratio_)"
   ]
  }
 ],
 "metadata": {
  "kernelspec": {
   "display_name": "Python 3",
   "language": "python",
   "name": "python3"
  },
  "language_info": {
   "codemirror_mode": {
    "name": "ipython",
    "version": 3
   },
   "file_extension": ".py",
   "mimetype": "text/x-python",
   "name": "python",
   "nbconvert_exporter": "python",
   "pygments_lexer": "ipython3",
   "version": "3.6.2"
  }
 },
 "nbformat": 4,
 "nbformat_minor": 2
}
